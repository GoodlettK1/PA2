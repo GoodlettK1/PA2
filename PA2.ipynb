{
 "cells": [
  {
   "cell_type": "markdown",
   "id": "37e79302",
   "metadata": {},
   "source": [
    "#\n",
    "Programming Assignment 2\n",
    "CS150\n",
    "Computer Programming for the Liberal Arts\n",
    "Fall 2023\n",
    "Student:  Keith Goodlett"
   ]
  },
  {
   "cell_type": "markdown",
   "id": "4c32087e",
   "metadata": {},
   "source": [
    "##\n",
    "Task 1: Personal Information"
   ]
  },
  {
   "cell_type": "code",
   "execution_count": 11,
   "id": "d4a81f98",
   "metadata": {},
   "outputs": [],
   "source": [
    "name= \"Keith Goodlett\""
   ]
  },
  {
   "cell_type": "code",
   "execution_count": 12,
   "id": "fdf9c26a",
   "metadata": {},
   "outputs": [],
   "source": [
    "age= \"55\""
   ]
  },
  {
   "cell_type": "code",
   "execution_count": 13,
   "id": "0237d73d",
   "metadata": {},
   "outputs": [],
   "source": [
    "height= \"180cm\""
   ]
  },
  {
   "cell_type": "code",
   "execution_count": 14,
   "id": "4e1fd9cd",
   "metadata": {},
   "outputs": [],
   "source": [
    "favoritecolor= \"Black\""
   ]
  },
  {
   "cell_type": "code",
   "execution_count": 15,
   "id": "2f3a5f6d",
   "metadata": {},
   "outputs": [
    {
     "name": "stdout",
     "output_type": "stream",
     "text": [
      "My name is Keith Goodlett, I am 55 years old, I am 180cm, My favorite color is Black.\n"
     ]
    }
   ],
   "source": [
    "print(\"My name is \"+ name+ \", I am \"+ age + \" years old,\"+ \" I am \"+ height + \", My favorite color is \" + favoritecolor+ \".\")"
   ]
  },
  {
   "cell_type": "markdown",
   "id": "509a84bc",
   "metadata": {},
   "source": [
    "##\n",
    "Task 2: Temperature Conversion"
   ]
  },
  {
   "cell_type": "code",
   "execution_count": 17,
   "id": "baeec5dd",
   "metadata": {},
   "outputs": [],
   "source": [
    "celsius_temp= \"-40\""
   ]
  },
  {
   "cell_type": "code",
   "execution_count": 18,
   "id": "43ff4ffc",
   "metadata": {},
   "outputs": [],
   "source": [
    "fahrenheit_temp= \"-40\""
   ]
  },
  {
   "cell_type": "code",
   "execution_count": 20,
   "id": "c918340e",
   "metadata": {},
   "outputs": [
    {
     "name": "stdout",
     "output_type": "stream",
     "text": [
      "The temperature is -40 degrees Celsius, Which is -40 degrees fahrenheit.\n"
     ]
    }
   ],
   "source": [
    "print(\"The temperature is \"+ celsius_temp+ \" degrees Celsius,\"+ \" Which is \"+ fahrenheit_temp+ \" degrees fahrenheit.\")"
   ]
  },
  {
   "cell_type": "markdown",
   "id": "d4a2760a",
   "metadata": {},
   "source": [
    "##\n",
    "Task 3: Simple Calculator"
   ]
  },
  {
   "cell_type": "code",
   "execution_count": 21,
   "id": "3e61425c",
   "metadata": {},
   "outputs": [],
   "source": [
    "number1= 37\n",
    "number2= 27"
   ]
  },
  {
   "cell_type": "code",
   "execution_count": 22,
   "id": "aefce9c1",
   "metadata": {},
   "outputs": [
    {
     "name": "stdout",
     "output_type": "stream",
     "text": [
      "64\n"
     ]
    }
   ],
   "source": [
    "print(number1+ number2)"
   ]
  },
  {
   "cell_type": "code",
   "execution_count": 24,
   "id": "71ecb55c",
   "metadata": {},
   "outputs": [
    {
     "name": "stdout",
     "output_type": "stream",
     "text": [
      "10\n"
     ]
    }
   ],
   "source": [
    "print(number1- number2)"
   ]
  },
  {
   "cell_type": "code",
   "execution_count": 25,
   "id": "35163aec",
   "metadata": {},
   "outputs": [
    {
     "name": "stdout",
     "output_type": "stream",
     "text": [
      "999\n"
     ]
    }
   ],
   "source": [
    "print(number1* number2)"
   ]
  },
  {
   "cell_type": "code",
   "execution_count": 27,
   "id": "b06837d7",
   "metadata": {},
   "outputs": [
    {
     "name": "stdout",
     "output_type": "stream",
     "text": [
      "1.3703703703703705\n"
     ]
    }
   ],
   "source": [
    "print(number1/ number2)"
   ]
  },
  {
   "cell_type": "markdown",
   "id": "6935f8bb",
   "metadata": {},
   "source": [
    "##\n",
    "Task 4: String Manipulation"
   ]
  },
  {
   "cell_type": "code",
   "execution_count": 28,
   "id": "3c767a55",
   "metadata": {},
   "outputs": [],
   "source": [
    "quote= \"Good things come to those who wait\""
   ]
  },
  {
   "cell_type": "code",
   "execution_count": 30,
   "id": "d5b10aeb",
   "metadata": {},
   "outputs": [
    {
     "data": {
      "text/plain": [
       "34"
      ]
     },
     "execution_count": 30,
     "metadata": {},
     "output_type": "execute_result"
    }
   ],
   "source": [
    "len(quote)"
   ]
  },
  {
   "cell_type": "code",
   "execution_count": 31,
   "id": "1148a47c",
   "metadata": {},
   "outputs": [
    {
     "data": {
      "text/plain": [
       "'GOOD THINGS COME TO THOSE WHO WAIT'"
      ]
     },
     "execution_count": 31,
     "metadata": {},
     "output_type": "execute_result"
    }
   ],
   "source": [
    "quote.upper()"
   ]
  },
  {
   "cell_type": "code",
   "execution_count": 32,
   "id": "7854426d",
   "metadata": {},
   "outputs": [
    {
     "data": {
      "text/plain": [
       "'good things come to those who wait'"
      ]
     },
     "execution_count": 32,
     "metadata": {},
     "output_type": "execute_result"
    }
   ],
   "source": [
    "quote.lower()"
   ]
  },
  {
   "cell_type": "code",
   "execution_count": 35,
   "id": "1238df57",
   "metadata": {},
   "outputs": [
    {
     "data": {
      "text/plain": [
       "'Good things come to those who wait'"
      ]
     },
     "execution_count": 35,
     "metadata": {},
     "output_type": "execute_result"
    }
   ],
   "source": [
    "quote.strip()"
   ]
  },
  {
   "cell_type": "code",
   "execution_count": 36,
   "id": "93440180",
   "metadata": {},
   "outputs": [
    {
     "name": "stdout",
     "output_type": "stream",
     "text": [
      "Good\n",
      "things\n",
      "come\n",
      "to\n",
      "those\n",
      "who\n",
      "wait\n"
     ]
    }
   ],
   "source": [
    "print(\"Good\"+ \"\\n\"+ \"things\"+ \"\\n\"+ \"come\"+ \"\\n\"+ \"to\"+ \"\\n\"+ \"those\"+ \"\\n\"+ \"who\"+ \"\\n\"+ \"wait\")"
   ]
  },
  {
   "cell_type": "markdown",
   "id": "8e8ec231",
   "metadata": {},
   "source": [
    "##\n",
    "Task 5: User Input and Integer Operations"
   ]
  },
  {
   "cell_type": "code",
   "execution_count": 76,
   "id": "b608dc14",
   "metadata": {},
   "outputs": [
    {
     "name": "stdout",
     "output_type": "stream",
     "text": [
      "Enter first integer number: 3\n",
      "Enter second integer number: 5\n",
      "My two integer numbers are  (3, 5)\n"
     ]
    }
   ],
   "source": [
    "variable1=int(input(\"Enter first integer number: \"))\n",
    "variable2=int(input(\"Enter second integer number: \"))\n",
    "print(\"My two integer numbers are \", (variable1, variable2))"
   ]
  },
  {
   "cell_type": "code",
   "execution_count": 81,
   "id": "2b067a6c",
   "metadata": {},
   "outputs": [
    {
     "name": "stdout",
     "output_type": "stream",
     "text": [
      "8\n"
     ]
    }
   ],
   "source": [
    "print(variable1+variable2)"
   ]
  },
  {
   "cell_type": "code",
   "execution_count": 82,
   "id": "82abc2a9",
   "metadata": {},
   "outputs": [
    {
     "name": "stdout",
     "output_type": "stream",
     "text": [
      "-2\n"
     ]
    }
   ],
   "source": [
    "print(variable1-variable2)"
   ]
  },
  {
   "cell_type": "code",
   "execution_count": 83,
   "id": "2244f21f",
   "metadata": {},
   "outputs": [
    {
     "name": "stdout",
     "output_type": "stream",
     "text": [
      "15\n"
     ]
    }
   ],
   "source": [
    "print(variable1*variable2)"
   ]
  },
  {
   "cell_type": "code",
   "execution_count": 87,
   "id": "6721169c",
   "metadata": {},
   "outputs": [
    {
     "name": "stdout",
     "output_type": "stream",
     "text": [
      "0.6\n"
     ]
    }
   ],
   "source": [
    "print(variable1/variable2)"
   ]
  },
  {
   "cell_type": "code",
   "execution_count": 78,
   "id": "5cae65f3",
   "metadata": {},
   "outputs": [
    {
     "data": {
      "text/plain": [
       "int"
      ]
     },
     "execution_count": 78,
     "metadata": {},
     "output_type": "execute_result"
    }
   ],
   "source": [
    "type(variable1)"
   ]
  },
  {
   "cell_type": "code",
   "execution_count": null,
   "id": "60d19a4c",
   "metadata": {},
   "outputs": [],
   "source": []
  },
  {
   "cell_type": "code",
   "execution_count": null,
   "id": "8409a229",
   "metadata": {},
   "outputs": [],
   "source": []
  },
  {
   "cell_type": "code",
   "execution_count": null,
   "id": "ef5aecd1",
   "metadata": {},
   "outputs": [],
   "source": []
  },
  {
   "cell_type": "code",
   "execution_count": null,
   "id": "4a70b0d2",
   "metadata": {},
   "outputs": [],
   "source": []
  },
  {
   "cell_type": "code",
   "execution_count": null,
   "id": "302f28cd",
   "metadata": {},
   "outputs": [],
   "source": []
  }
 ],
 "metadata": {
  "kernelspec": {
   "display_name": "Python 3 (ipykernel)",
   "language": "python",
   "name": "python3"
  },
  "language_info": {
   "codemirror_mode": {
    "name": "ipython",
    "version": 3
   },
   "file_extension": ".py",
   "mimetype": "text/x-python",
   "name": "python",
   "nbconvert_exporter": "python",
   "pygments_lexer": "ipython3",
   "version": "3.11.5"
  }
 },
 "nbformat": 4,
 "nbformat_minor": 5
}
